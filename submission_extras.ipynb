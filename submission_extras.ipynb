{
  "nbformat": 4,
  "nbformat_minor": 0,
  "metadata": {
    "colab": {
      "name": "submission_extras.ipynb",
      "provenance": [],
      "collapsed_sections": [
        "4nXqH4Jya_XB",
        "80Y34j4mccIs",
        "53wHaJLjcAdn",
        "RBBd0__ZbQE7",
        "NvjbbW38bb_m",
        "phIamz93b0uU",
        "jYURI4s8eN83",
        "2HslGNGceaXa",
        "cVQmv-8newLy",
        "1SC27BmafG6H"
      ],
      "toc_visible": true,
      "authorship_tag": "ABX9TyOgvH6e92uxcQW6stPO8/G9",
      "include_colab_link": true
    },
    "kernelspec": {
      "name": "python3",
      "display_name": "Python 3"
    }
  },
  "cells": [
    {
      "cell_type": "markdown",
      "metadata": {
        "id": "view-in-github",
        "colab_type": "text"
      },
      "source": [
        "<a href=\"https://colab.research.google.com/github/georgehtliu/ignition-hack-2020/blob/master/submission_extras.ipynb\" target=\"_parent\"><img src=\"https://colab.research.google.com/assets/colab-badge.svg\" alt=\"Open In Colab\"/></a>"
      ]
    },
    {
      "cell_type": "markdown",
      "metadata": {
        "id": "4nXqH4Jya_XB",
        "colab_type": "text"
      },
      "source": [
        "# **Import Libraries**"
      ]
    },
    {
      "cell_type": "code",
      "metadata": {
        "id": "5ri4yLmgap0t",
        "colab_type": "code",
        "colab": {}
      },
      "source": [
        "import pandas as pd\n",
        "import numpy as np\n",
        "from sklearn.feature_extraction.text import TfidfVectorizer,CountVectorizer\n",
        "from sklearn.model_selection import train_test_split, GridSearchCV\n",
        "from sklearn.neural_network import MLPClassifier\n",
        "from sklearn.metrics import f1_score\n",
        "from sklearn.svm import SVC\n",
        "from sklearn.linear_model import SGDClassifier\n",
        "import nltk \n",
        "import string\n",
        "import re"
      ],
      "execution_count": null,
      "outputs": []
    },
    {
      "cell_type": "markdown",
      "metadata": {
        "id": "dqWFhsaCd7LG",
        "colab_type": "text"
      },
      "source": [
        "# **Pre-processing**"
      ]
    },
    {
      "cell_type": "markdown",
      "metadata": {
        "id": "80Y34j4mccIs",
        "colab_type": "text"
      },
      "source": [
        "## Lemmatization with Part-of-speech Tagging (using NLTK)\n",
        "Significantly increases training time and decreases f1 scores by ~1%."
      ]
    },
    {
      "cell_type": "code",
      "metadata": {
        "id": "j96CReUccw3d",
        "colab_type": "code",
        "colab": {}
      },
      "source": [
        "nltk.download('wordnet')\n",
        "from nltk.corpus import wordnet\n",
        "\n",
        "def get_wordnet_pos(word):\n",
        "    tag = nltk.pos_tag([word])[0][1][0].upper()\n",
        "    tag_dictionary = {\"J\": wordnet.ADJ,\n",
        "                \"N\": wordnet.NOUN,\n",
        "                \"V\": wordnet.VERB,\n",
        "                \"R\": wordnet.ADV}\n",
        "\n",
        "    return tag_dictionary.get(tag, wordnet.NOUN)\n",
        "\n",
        "from nltk.stem import WordNetLemmatizer \n",
        "nltk.download('punkt')\n",
        "nltk.download('averaged_perceptron_tagger')\n",
        "\n",
        "lemmatizer = WordNetLemmatizer()\n",
        "\n",
        "def wn_lemmatize(sentence, lemmatizer): \n",
        "  wordsList = sentence.split()\n",
        "  for i in range(len(wordsList)): \n",
        "    if len(wordsList[i]) >= 1: \n",
        "      # print(wordsList[i])\n",
        "      wordsList[i] = lemmatizer.lemmatize(wordsList[i], get_wordnet_pos(wordsList[i]))\n",
        "      # print(wordsList[i])\n",
        "  return ' '.join(wordsList)\n",
        "\n",
        "# To implement: \n",
        "# mini_df[\"Text\"] = mini_df['Text'].apply(lambda sentence: wn_lemmatize(sentence, lemmatizer))"
      ],
      "execution_count": null,
      "outputs": []
    },
    {
      "cell_type": "markdown",
      "metadata": {
        "id": "53wHaJLjcAdn",
        "colab_type": "text"
      },
      "source": [
        "## Name Lemmatization / Generalization\n",
        "Slightly decreases f1 scores."
      ]
    },
    {
      "cell_type": "code",
      "metadata": {
        "id": "MaSsn8QucJcX",
        "colab_type": "code",
        "colab": {}
      },
      "source": [
        "def lemmatizeName(text):\n",
        "    if text[0] == '@' or text[0]=='#':\n",
        "        L = text.split()\n",
        "        L[0] = ''\n",
        "        return ' '.join(L)\n",
        "    return text\n",
        "\n",
        "# To implement:\n",
        "# df['Text'] = df['Text'].map(lambda text: lemmatize(text))"
      ],
      "execution_count": null,
      "outputs": []
    },
    {
      "cell_type": "markdown",
      "metadata": {
        "id": "RBBd0__ZbQE7",
        "colab_type": "text"
      },
      "source": [
        "## Stop Words\n",
        "Decreases f1 scores by ~1%"
      ]
    },
    {
      "cell_type": "code",
      "metadata": {
        "id": "lp7jTAf2bVHC",
        "colab_type": "code",
        "colab": {}
      },
      "source": [
        "nltk.download('stopwords')\n",
        "from nltk.corpus import stopwords\n",
        "\n",
        "stopword = nltk.corpus.stopwords.words('english')\n",
        "def remove_stopwords(text):\n",
        "    text = [word for word in text if word not in stopword]\n",
        "    return ' '.join(text)\n",
        "\n",
        "# To implement: \n",
        "# df['Text'] = df['Text'].apply(lambda x: remove_stopwords(x))"
      ],
      "execution_count": null,
      "outputs": []
    },
    {
      "cell_type": "markdown",
      "metadata": {
        "id": "NvjbbW38bb_m",
        "colab_type": "text"
      },
      "source": [
        "## Remove Punctuation\n",
        "Redundant due to vectorizer's built-in functionality."
      ]
    },
    {
      "cell_type": "code",
      "metadata": {
        "id": "38BzhpambsGa",
        "colab_type": "code",
        "colab": {}
      },
      "source": [
        "def remove_punct(text):\n",
        "    text  = \"\".join([char for char in text if char not in string.punctuation])\n",
        "    text = re.sub('[0-9]+', '', text)\n",
        "    return text\n",
        "\n",
        "# To implement: \n",
        "# df['Text'] = df['Text'].map(lambda text: remove_punct(text))"
      ],
      "execution_count": null,
      "outputs": []
    },
    {
      "cell_type": "markdown",
      "metadata": {
        "id": "phIamz93b0uU",
        "colab_type": "text"
      },
      "source": [
        "## Tokenization\n",
        "Redundant due to vectorizer's built-in functionality."
      ]
    },
    {
      "cell_type": "code",
      "metadata": {
        "id": "UFR_i5L0b7Br",
        "colab_type": "code",
        "colab": {}
      },
      "source": [
        "def tokenization(text):\n",
        "    text = re.split('\\W+', text)\n",
        "    return text\n",
        "\n",
        "# To implement: \n",
        "# df['Text'] = df['Text'].map(lambda text: tokenization(text))"
      ],
      "execution_count": null,
      "outputs": []
    },
    {
      "cell_type": "markdown",
      "metadata": {
        "id": "3HjneTvxeJbC",
        "colab_type": "text"
      },
      "source": [
        "# **Classifiers**"
      ]
    },
    {
      "cell_type": "markdown",
      "metadata": {
        "id": "jYURI4s8eN83",
        "colab_type": "text"
      },
      "source": [
        "## Neural Network\n",
        "Very slow to train, mediocre accuracy."
      ]
    },
    {
      "cell_type": "code",
      "metadata": {
        "id": "xgxNGd-neVSn",
        "colab_type": "code",
        "colab": {}
      },
      "source": [
        "clf = MLPClassifier(solver='adam', activation='relu', hidden_layer_sizes=(64,64))\n",
        "clf.fit(X_train_vectors, y_train)\n",
        "print(f1_score(y_test, clf.predict(X_test_vectors), average=None, labels=[0,1]))"
      ],
      "execution_count": null,
      "outputs": []
    },
    {
      "cell_type": "markdown",
      "metadata": {
        "id": "2HslGNGceaXa",
        "colab_type": "text"
      },
      "source": [
        "## Decision Tree\n",
        "Sub-par accuracy."
      ]
    },
    {
      "cell_type": "code",
      "metadata": {
        "id": "_NSQSWkSeutt",
        "colab_type": "code",
        "colab": {}
      },
      "source": [
        "from sklearn.tree import DecisionTreeClassifier\n",
        "\n",
        "parameters_dt = {'criterion': ('gini', 'entropy'), 'splitter': ('best', 'random'), 'max_depth': (None, 4,100,1000)}\n",
        "dt = DecisionTreeClassifier()\n",
        "\n",
        "clf_dt = GridSearchCV(dt, parameters_dt, cv = 5)\n",
        "\n",
        "clf_dt.fit(X_train_vectors, y_train)\n",
        "\n",
        "print(f1_score(y_test, clf_dt.predict(X_test_vectors), average=None, labels=[0,1]))"
      ],
      "execution_count": null,
      "outputs": []
    },
    {
      "cell_type": "markdown",
      "metadata": {
        "id": "cVQmv-8newLy",
        "colab_type": "text"
      },
      "source": [
        "## SVM\n",
        "Incapable of handling large datasets. Good accuracy for smaller datasets."
      ]
    },
    {
      "cell_type": "code",
      "metadata": {
        "id": "4013Z6bge_-v",
        "colab_type": "code",
        "colab": {}
      },
      "source": [
        "clf_svm = SVC(kernel='rbf', C=4, decision_function_shape='ovo')\n",
        "clf_svm.fit(X_train_vectors, y_train)\n",
        "\n",
        "## Around 68% accuracy using 8000 of the 1M training examples\n",
        "print(f1_score(y_test, clf.predict(X_test_vectors), average=None, labels=[0,1]))"
      ],
      "execution_count": null,
      "outputs": []
    },
    {
      "cell_type": "markdown",
      "metadata": {
        "id": "1SC27BmafG6H",
        "colab_type": "text"
      },
      "source": [
        "## SGD\n",
        "Very fast to train, but does not improve much at all as dataset size increases."
      ]
    },
    {
      "cell_type": "code",
      "metadata": {
        "id": "TOs34XHCfPRi",
        "colab_type": "code",
        "colab": {}
      },
      "source": [
        "clf_sgd = SGDClassifier(loss='log',penalty='elasticnet',l1_ratio=0.05)\n",
        "clf_sgd.fit(X_train_vectors, y_train)\n",
        "\n",
        "print(f1_score(y_test, clf_sgd.predict(X_test_vectors), average=None, labels=[0,1]))"
      ],
      "execution_count": null,
      "outputs": []
    }
  ]
}