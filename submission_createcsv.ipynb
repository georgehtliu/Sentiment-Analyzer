{
  "nbformat": 4,
  "nbformat_minor": 0,
  "metadata": {
    "colab": {
      "name": "submission-createcsv.ipynb",
      "provenance": [],
      "collapsed_sections": [],
      "include_colab_link": true
    },
    "kernelspec": {
      "name": "python3",
      "display_name": "Python 3"
    }
  },
  "cells": [
    {
      "cell_type": "markdown",
      "metadata": {
        "id": "view-in-github",
        "colab_type": "text"
      },
      "source": [
        "<a href=\"https://colab.research.google.com/github/georgehtliu/sentiment-analyzer/blob/master/submission_createcsv.ipynb\" target=\"_parent\"><img src=\"https://colab.research.google.com/assets/colab-badge.svg\" alt=\"Open In Colab\"/></a>"
      ]
    },
    {
      "cell_type": "markdown",
      "metadata": {
        "id": "tFBc6GiFx_sB",
        "colab_type": "text"
      },
      "source": [
        "# Importing Libraries\n",
        "Joblib used for ease of importing files. Pandas used for data manipulation."
      ]
    },
    {
      "cell_type": "code",
      "metadata": {
        "id": "eTXlXnetnws3",
        "colab_type": "code",
        "colab": {}
      },
      "source": [
        "import joblib\n",
        "import pandas as pd"
      ],
      "execution_count": 8,
      "outputs": []
    },
    {
      "cell_type": "markdown",
      "metadata": {
        "id": "_J4QiP7lyCys",
        "colab_type": "text"
      },
      "source": [
        "# Importing Classifier, Vectorizer, and Judgement Data\n",
        "Support for importing from local storage as well as importing from Google Drive for Google Colab."
      ]
    },
    {
      "cell_type": "code",
      "metadata": {
        "id": "pX-mdMxht0eJ",
        "colab_type": "code",
        "colab": {}
      },
      "source": [
        "# Assuming files are stored locally in the same directory.\n",
        "clf_log = joblib.load(SentimentNewton_Log.pkl)\n",
        "\n",
        "vectorizer = joblib.load(Vectorizer.pkl)\n",
        "\n",
        "judge_data_path = \"judgement_data.csv\"\n",
        "\n",
        "# Uncomment to import files from Google Drive on Google Colab\n",
        "\"\"\"\n",
        "from google.colab import drive\n",
        "drive.mount('/content/drive')\n",
        "\n",
        "clf_path = input('Please enter path to SentimentNewton_Log')\n",
        "clf_log = joblib.load(clf_path)\n",
        "\n",
        "vect_path = input('Please enter path to Vectorizer')\n",
        "vectorizer = joblib.load(vect_path)\n",
        "\n",
        "judge_data_path = input(\"Please enter the path to your judgement_data.csv file in your Google Drive.\")\n",
        "\"\"\""
      ],
      "execution_count": null,
      "outputs": []
    },
    {
      "cell_type": "markdown",
      "metadata": {
        "id": "q7W6QAh_zB0m",
        "colab_type": "text"
      },
      "source": [
        "# Processing Imported Files\n",
        "Preparing dataframe and vectors."
      ]
    },
    {
      "cell_type": "code",
      "metadata": {
        "id": "WpXH32mrxfOy",
        "colab_type": "code",
        "colab": {}
      },
      "source": [
        "# Convert csv file to dataframe\n",
        "df_judge = pd.read_csv(judge_data_path)\n",
        "df_mini = df_judge\n",
        "\n",
        "X = df_mini['Text']\n",
        "X_vectors= vectorizer.transform(X)"
      ],
      "execution_count": 12,
      "outputs": []
    },
    {
      "cell_type": "markdown",
      "metadata": {
        "id": "QZSBIb03zLKB",
        "colab_type": "text"
      },
      "source": [
        "# Writing to CSV File\n",
        "Edit the *csv_path* variable to decide where the csv will be stored."
      ]
    },
    {
      "cell_type": "code",
      "metadata": {
        "id": "peRoNeltxmsc",
        "colab_type": "code",
        "colab": {
          "base_uri": "https://localhost:8080/",
          "height": 34
        },
        "outputId": "143da046-c21d-46bf-a4f5-1bd1e0e2adfd"
      },
      "source": [
        "csv_path = '/content/drive/My Drive/predicted_labels.csv'\n",
        "\n",
        "df_mini['Sentiment'] = clf_log.predict(X_vectors)\n",
        "df_mini.to_csv(csv_path) \n",
        "print(\"Done!\")"
      ],
      "execution_count": 13,
      "outputs": [
        {
          "output_type": "stream",
          "text": [
            "Done!\n"
          ],
          "name": "stdout"
        }
      ]
    }
  ]
}