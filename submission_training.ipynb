{
  "nbformat": 4,
  "nbformat_minor": 0,
  "metadata": {
    "colab": {
      "name": "submission_training.ipynb",
      "provenance": [],
      "collapsed_sections": [],
      "toc_visible": true
    },
    "kernelspec": {
      "name": "python3",
      "display_name": "Python 3"
    }
  },
  "cells": [
    {
      "cell_type": "markdown",
      "metadata": {
        "id": "nB2nroT1bWso",
        "colab_type": "text"
      },
      "source": [
        "# Importing Libraries and Data Input\n",
        "\n",
        "\n"
      ]
    },
    {
      "cell_type": "code",
      "metadata": {
        "id": "BSU9cGUkbhrF",
        "colab_type": "code",
        "colab": {}
      },
      "source": [
        "#Import Libraries\n",
        "import pandas as pd\n",
        "import numpy as np\n",
        "from sklearn.feature_extraction.text import TfidfVectorizer,CountVectorizer\n",
        "from sklearn.model_selection import train_test_split, GridSearchCV\n",
        "from sklearn.neural_network import MLPClassifier\n",
        "from sklearn.metrics import f1_score\n",
        "from sklearn.svm import SVC\n",
        "from sklearn.linear_model import SGDClassifier\n",
        "import nltk \n",
        "import string\n",
        "import re"
      ],
      "execution_count": 11,
      "outputs": []
    },
    {
      "cell_type": "code",
      "metadata": {
        "id": "hhWGRYIobrBX",
        "colab_type": "code",
        "colab": {}
      },
      "source": [
        "\n",
        "# Assuming files are stored locally in the same directory.\n",
        "training_path = \"training_data.csv\"\n",
        "\"\"\"\n",
        "# Uncomment to import files from Google Drive on Google Colab\n",
        "from google.colab import drive\n",
        "drive.mount('/content/drive')\n",
        "\n",
        "training_path = input('Please enter path to training_date.csv.')\n",
        "\"\"\""
      ],
      "execution_count": null,
      "outputs": []
    },
    {
      "cell_type": "markdown",
      "metadata": {
        "id": "5X1Ugm90cZRA",
        "colab_type": "text"
      },
      "source": [
        "# Data Cleaning\n",
        "The only data cleaning done is the removal of punctuation. We have tried other methods of cleaning the data (*see submission_extras*), but they have all resulted in lower accuracy."
      ]
    },
    {
      "cell_type": "code",
      "metadata": {
        "id": "B0S7MhZg9zcj",
        "colab_type": "code",
        "colab": {}
      },
      "source": [
        "df = pd.read_csv(training_path)\n",
        "df = df[['Text','Sentiment']] # Set column names as \"Text\" and \"Sentiment\""
      ],
      "execution_count": 13,
      "outputs": []
    },
    {
      "cell_type": "code",
      "metadata": {
        "id": "c5VR2_WEcfQZ",
        "colab_type": "code",
        "colab": {}
      },
      "source": [
        "# Function to take in a string and use a regex query to return the string without punctuation \n",
        "def remove_punct(text):\n",
        "    text  = \"\".join([char for char in text if char not in string.punctuation])\n",
        "    text = re.sub('[0-9]+', '', text)\n",
        "    return text"
      ],
      "execution_count": 14,
      "outputs": []
    },
    {
      "cell_type": "code",
      "metadata": {
        "id": "60JeyGAcc1DZ",
        "colab_type": "code",
        "colab": {}
      },
      "source": [
        "# Apply to dataframe column\n",
        "df['Text'] = df['Text'].map(lambda text: remove_punct(text))\n",
        "df.head(10)"
      ],
      "execution_count": null,
      "outputs": []
    },
    {
      "cell_type": "markdown",
      "metadata": {
        "id": "qn5Xq9KP_nau",
        "colab_type": "text"
      },
      "source": [
        "# Vectorization\n"
      ]
    },
    {
      "cell_type": "code",
      "metadata": {
        "id": "a1TMWrgJhW--",
        "colab_type": "code",
        "colab": {}
      },
      "source": [
        "X = np.array(df['Text'])\n",
        "y = np.array(df['Sentiment'])\n",
        "\n",
        "vectorizer = TfidfVectorizer(strip_accents='unicode', max_df=0.5, ngram_range=(1,2))\n",
        "X_train_vectors = vectorizer.fit_transform(X)"
      ],
      "execution_count": null,
      "outputs": []
    },
    {
      "cell_type": "markdown",
      "metadata": {
        "id": "uwtK1k5ghe8G",
        "colab_type": "text"
      },
      "source": [
        "# Training Logistic Regression Model\n",
        "The parameters were optimized using Gridsearch."
      ]
    },
    {
      "cell_type": "code",
      "metadata": {
        "id": "5FPvz2GvhlLr",
        "colab_type": "code",
        "colab": {}
      },
      "source": [
        "from sklearn.linear_model import LogisticRegression\n",
        "\n",
        "clf_log = LogisticRegression(solver='sag', max_iter=10000, C=2, class_weight='dict')\n",
        "clf_log.fit(X_train_vectors, y)"
      ],
      "execution_count": null,
      "outputs": []
    },
    {
      "cell_type": "markdown",
      "metadata": {
        "id": "j6lBA71MikAT",
        "colab_type": "text"
      },
      "source": [
        "# Saving Model with Pickle\n",
        "The trained logistic regression model and Tfidf vectorizer are stored as SentimentNewton_Log.pkl and Vectorizer.pkl using the pickle library."
      ]
    },
    {
      "cell_type": "code",
      "metadata": {
        "id": "2nUJplMVixFo",
        "colab_type": "code",
        "colab": {}
      },
      "source": [
        "import pickle\n",
        "pickle_out = open('Vectorizer.pkl','wb')\n",
        "Pickle = pickle.dump(vectorizer, pickle_out)\n",
        "pickle_out.close()\n",
        "\n",
        "pickle_out = open('SentimentNewton_Log.pkl','wb')\n",
        "Pickle = pickle.dump(clf_log, pickle_out)\n",
        "pickle_out.close()"
      ],
      "execution_count": null,
      "outputs": []
    }
  ]
}